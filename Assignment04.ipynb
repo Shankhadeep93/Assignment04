{
  "nbformat": 4,
  "nbformat_minor": 0,
  "metadata": {
    "colab": {
      "provenance": []
    },
    "kernelspec": {
      "name": "python3",
      "display_name": "Python 3"
    },
    "language_info": {
      "name": "python"
    }
  },
  "cells": [
    {
      "cell_type": "code",
      "execution_count": null,
      "metadata": {
        "id": "USdDYaUQ1ntp"
      },
      "outputs": [],
      "source": []
    },
    {
      "cell_type": "markdown",
      "source": [],
      "metadata": {
        "id": "xwibE7cd973z"
      }
    },
    {
      "cell_type": "markdown",
      "source": [],
      "metadata": {
        "id": "Dg0TEOEP17PF"
      }
    },
    {
      "cell_type": "markdown",
      "source": [
        "1. What are data structures, and why are they important ?\n",
        "\n",
        "Ans:- Data structures are organizational formats that allow us to store, manage, and retrieve data efficiently. They are the foundation of programming and are used to handle data in a way that optimizes performance for specific tasks.\n",
        "\n",
        "In Python, data structures are implemented as built-in types and abstract data types, such as:\n",
        "\n",
        "Built-in Data Structures:\n",
        "\n",
        "Lists\n",
        "Dictionaries\n",
        "Tuples\n",
        "Sets\n",
        "\n",
        "Data Structures Are Important in Python because:-\n",
        "1.Efficient Data Handling: Data structures allow you to store and manipulate data in a way that minimizes resource usage, like memory or processing time. For example, using a dictionary provides faster lookups compared to a list.\n",
        "\n",
        "2.Optimized Performance: Choosing the right data structure can significantly improve the speed of algorithms. For example:\n",
        "\n",
        "3.Using a heap ensures quick access to the smallest/largest element.\n",
        "A set is optimal for checking membership because it uses hash functions.\n",
        "Code Readability and Maintenance: Python’s built-in data structures are designed to be simple and intuitive, making your code cleaner and easier to maintain.\n",
        "\n",
        "4.Solving Real-world Problems: Problems like managing an inventory, implementing a search engine, or creating a social network all rely on efficient data structures like hash maps, trees, or graphs.\n",
        "\n",
        "5.Flexibility with Built-in Functions: Python provides numerous methods for built-in data structures, such as .append(), .pop(), .sort(), or .update(), which simplify tasks without requiring custom implementations.\n",
        "\n",
        "6.Foundation for Algorithms: Data structures are integral to designing algorithms. For instance, sorting requires arrays/lists, and graph algorithms require adjacency lists or matrices.\n",
        "\n"
      ],
      "metadata": {
        "id": "pdRCR9ej2B7G"
      }
    },
    {
      "cell_type": "code",
      "source": [],
      "metadata": {
        "id": "_S3EJmnR14sv"
      },
      "execution_count": null,
      "outputs": []
    },
    {
      "cell_type": "markdown",
      "source": [
        "2.Explain the difference between mutable and immutable data types with examples.\n",
        "\n",
        "Ans:- In Python, mutability refers to whether an object's value can be changed after it is created. This distinction has important implications for memory management, performance, and behavior in programs.\n",
        "\n",
        "Mutable Data Types\n",
        "Definition: Mutable data types are those whose values can be changed in place without creating a new object.\n",
        "Examples:\n",
        "Lists\n",
        "Dictionaries\n",
        "Sets\n",
        "User-defined objects (by default)\n",
        "Key Characteristics of Mutable Types:\n",
        "Values can change: Operations on mutable objects modify the object itself rather than creating a new one.\n",
        "\n",
        "Same memory address: Even after modification, the object retains the same memory address.\n",
        "\n",
        "Example: Mutable (List)\n",
        "\n",
        "# Create a list\n",
        "my_list = [1, 2, 3]\n",
        "print(id(my_list))  # Memory address before change\n",
        "\n",
        "# Modify the list\n",
        "my_list.append(4)\n",
        "print(my_list)  # Output: [1, 2, 3, 4]\n",
        "print(id(my_list))  # Same memory address as before\n",
        "\n",
        "Immutable Data Types\n",
        "Definition: Immutable data types are those whose values cannot be changed after creation. Any operation that seems to modify an immutable object actually creates a new object.\n",
        "Examples:\n",
        "Strings\n",
        "Tuples\n",
        "Numbers (integers, floats, etc.)\n",
        "Frozen sets\n",
        "Key Characteristics of Immutable Types:\n",
        "Values cannot change: Any modification creates a new object rather than altering the existing one.\n",
        "\n",
        "Different memory address: A new memory address is assigned when a \"modification\" occurs.\n",
        "\n",
        "Example: Immutable (String)\n",
        " Create a string\n",
        "my_string = \"hello\"\n",
        "print(id(my_string))  # Memory address before change\n",
        "\n",
        "# Attempt to modify the string\n",
        "my_string += \" world\"\n",
        "print(my_string)  # Output: \"hello world\"\n",
        "print(id(my_string))  # Different memory address than before\n",
        "\n",
        "\n"
      ],
      "metadata": {
        "id": "5hx3Z_WH3TwP"
      }
    },
    {
      "cell_type": "markdown",
      "source": [
        "3.What are the main differences between lists and tuples in Python?\n",
        "\n",
        "Ans:-Both lists and tuples are Python data structures used to store collections of items, but they have key differences in terms of mutability, performance, and use cases.\n",
        "\n",
        "1. Mutability\n",
        "Lists: Mutable — their elements can be modified, added, or removed after the list is created.\n",
        "Tuples: Immutable — once created, their elements cannot be changed, added, or removed.\n",
        "\n",
        "2. Syntax\n",
        "Lists: Defined using square brackets [ ].\n",
        "Tuples: Defined using parentheses ( ).\n",
        "\n",
        "3. Performance\n",
        "Lists: Slightly slower than tuples because of their mutability and additional memory overhead for dynamic operations.\n",
        "Tuples: Faster and more memory-efficient due to immutability.\n",
        "\n",
        "4. Use Cases\n",
        "Lists: Ideal when you need a dynamic data structure that can change over time.\n",
        "Example: Storing user inputs, dynamic data, etc.\n",
        "Tuples: Ideal for fixed collections of items that should not change.\n",
        "Example: Representing coordinates, days of the week, or function return values.\n",
        "\n",
        "5. Immutability Implications\n",
        "Lists: Cannot be used as keys in dictionaries or elements in sets because they are not hashable.\n",
        "Tuples: Can be used as keys in dictionaries or elements in sets because they are hashable.\n",
        "\n",
        "6. Methods\n",
        "Lists: Support more methods for modification, such as .append(), .extend(), .remove(), .pop(), .clear(), and more.\n",
        "Tuples: Have fewer methods, mostly related to access (.count() and .index())\n"
      ],
      "metadata": {
        "id": "c0QjPXWz4Ycd"
      }
    },
    {
      "cell_type": "markdown",
      "source": [
        "4. Describe how dictionaries store data?\n",
        "\n",
        "Ans:-Dictionaries in Python are implemented as hash tables, which are an efficient way to store and retrieve data using key-value pairs. Here's a detailed explanation of how dictionaries store data:\n",
        "\n",
        "1. Basic Structure\n",
        "A dictionary stores data as a collection of:\n",
        "\n",
        "Keys (unique identifiers for data).\n",
        "Values (the data associated with the key).\n",
        "Each key is hashable, meaning Python computes a unique hash value for it using a hash function. The hash value determines where the key-value pair is stored in memory.\n",
        "\n",
        "2. Hash Tables\n",
        "A dictionary in Python uses a hash table to organize its key-value pairs.\n",
        "\n",
        "Hash Table:\n",
        "\n",
        "A hash table is an array-like data structure where each slot (or \"bucket\") corresponds to a hash value.\n",
        "The hash value of a key determines which bucket its value is stored in.\n",
        "Hash Function:\n",
        "\n",
        "Python uses a built-in hash function (hash()) to compute a hash value for the key.\n",
        "\n",
        "3. Collision Handling\n",
        "A hash collision occurs when two different keys generate the same hash value. Python handles collisions using a technique called open addressing:\n",
        "\n",
        "Instead of overwriting, Python searches for the next available slot in the hash table.\n",
        "A sequence of probes (steps) determines the new slot for the second key.\n",
        "4. Dynamic Resizing\n",
        "As the dictionary grows and more key-value pairs are added:\n",
        "\n",
        "The hash table automatically resizes itself to maintain efficiency and minimize collisions.\n",
        "Python increases the size of the table and rehashes all keys to redistribute them.\n",
        "This resizing ensures average time complexity for lookups, insertions, and deletions remains O(1) (constant time).\n",
        "\n",
        "5. Memory Management\n",
        "Dictionaries preallocate some extra memory to minimize resizing operations. This is why they may use more memory compared to other data structures.\n",
        "\n",
        "6. Retrieval Process\n",
        "To retrieve a value using its key:\n",
        "\n",
        "The hash function computes the hash of the key.\n",
        "Python uses this hash to find the corresponding bucket in the hash table.\n",
        "If the key is found in the bucket, its associated value is returned.\n"
      ],
      "metadata": {
        "id": "i5MxHz7L5ieF"
      }
    },
    {
      "cell_type": "markdown",
      "source": [
        "5. 3. Collision Handling\n",
        "A hash collision occurs when two different keys generate the same hash value. Python handles collisions using a technique called open addressing:\n",
        "\n",
        "Instead of overwriting, Python searches for the next available slot in the hash table.\n",
        "A sequence of probes (steps) determines the new slot for the second key.\n",
        "4. Dynamic Resizing\n",
        "As the dictionary grows and more key-value pairs are added:\n",
        "\n",
        "The hash table automatically resizes itself to maintain efficiency and minimize collisions.\n",
        "Python increases the size of the table and rehashes all keys to redistribute them.\n",
        "This resizing ensures average time complexity for lookups, insertions, and deletions remains O(1) (constant time).\n",
        "\n",
        "5. Memory Management\n",
        "Dictionaries preallocate some extra memory to minimize resizing operations. This is why they may use more memory compared to other data structures.\n",
        "\n",
        "6. Retrieval Process\n",
        "To retrieve a value using its key:\n",
        "\n",
        "The hash function computes the hash of the key.\n",
        "Python uses this hash to find the corresponding bucket in the hash table.\n",
        "If the key is found in the bucket, its associated value is returned.\n"
      ],
      "metadata": {
        "id": "rw987Atw6mc3"
      }
    },
    {
      "cell_type": "markdown",
      "source": [
        "5.3. Collision Handling\n",
        "A hash collision occurs when two different keys generate the same hash value. Python handles collisions using a technique called open addressing:\n",
        "\n",
        "Instead of overwriting, Python searches for the next available slot in the hash table.\n",
        "A sequence of probes (steps) determines the new slot for the second key.\n",
        "4. Dynamic Resizing\n",
        "As the dictionary grows and more key-value pairs are added:\n",
        "\n",
        "The hash table automatically resizes itself to maintain efficiency and minimize collisions.\n",
        "Python increases the size of the table and rehashes all keys to redistribute them.\n",
        "This resizing ensures average time complexity for lookups, insertions, and deletions remains O(1) (constant time).\n",
        "\n",
        "5. Memory Management\n",
        "Dictionaries preallocate some extra memory to minimize resizing operations. This is why they may use more memory compared to other data structures.\n",
        "\n",
        "6. Retrieval Process\n",
        "To retrieve a value using its key:\n",
        "\n",
        "The hash function computes the hash of the key.\n",
        "Python uses this hash to find the corresponding bucket in the hash table.\n",
        "If the key is found in the bucket, its associated value is returned.\n"
      ],
      "metadata": {
        "id": "czrPmE2s6qAP"
      }
    },
    {
      "cell_type": "markdown",
      "source": [
        "5.Why might you use a set instead of a list in Python ?\n",
        "\n",
        "Ans:- Using a set instead of a list in Python is beneficial in certain situations due to the distinct properties and performance characteristics of sets. Below are the key reasons why you might choose a set over a list:\n",
        "\n",
        "1. Uniqueness of Elements\n",
        "Set: Automatically removes duplicate elements and ensures all items are unique.\n",
        "List: Allows duplicate elements, which may require manual filtering if uniqueness is needed.\n",
        "\n",
        "2. Faster Membership Testing\n",
        "Set: Membership tests (in and not in) are significantly faster due to the underlying hash table implementation.\n",
        "List: Membership tests require scanning through all elements, resulting in slower performance for larger lists.\n",
        "\n",
        "3. Set Operations\n",
        "Sets support efficient mathematical set operations like union, intersection, difference, and symmetric difference.\n",
        "Lists do not have direct methods for such operations, and you need to write additional code to achieve similar results.\n"
      ],
      "metadata": {
        "id": "atDvN4r96tFG"
      }
    },
    {
      "cell_type": "markdown",
      "source": [
        "6.What is a string in Python, and how is it different from a list?\n",
        "\n",
        "Ans:-A string in Python is a sequence of characters enclosed in either single quotes ('), double quotes (\"), or triple quotes (''' or \"\"\") for multiline strings. Strings are a built-in data type and are used to represent text.\n",
        "\n",
        "Strings and lists are both sequences in Python, meaning they share some characteristics like indexing, slicing, and iteration.\n",
        "\n",
        "1. Mutability\n",
        "Strings: Strings are immutable, meaning you cannot modify them after they are created. Any \"modification\" creates a new string object.\n",
        "Lists: Lists are mutable, so their elements can be modified, added, or removed\n",
        "\n",
        "2. Element Type\n",
        "Strings: Can only store characters.\n",
        "Lists: Can store elements of any type, such as integers, floats, strings, or even other lists.\n",
        "\n",
        "\n",
        "What is a String in Python?\n",
        "A string in Python is a sequence of characters enclosed in either single quotes ('), double quotes (\"), or triple quotes (''' or \"\"\") for multiline strings. Strings are a built-in data type and are used to represent text.\n",
        "\n",
        "Example:\n",
        "python\n",
        "Copy code\n",
        "# String examples\n",
        "string1 = 'Hello'\n",
        "string2 = \"World\"\n",
        "string3 = '''This is\n",
        "a multiline string'''\n",
        "How Strings Differ from Lists\n",
        "Strings and lists are both sequences in Python, meaning they share some characteristics like indexing, slicing, and iteration. However, there are fundamental differences between them:\n",
        "\n",
        "Aspect\tString\tList\n",
        "Data Type\tSequence of characters (text)\tSequence of elements (any type)\n",
        "Mutability\tImmutable\tMutable\n",
        "Element Type\tAlways stores characters\tCan store any data type\n",
        "Syntax\tEnclosed in quotes (' or \")\tEnclosed in square brackets ([])\n",
        "Modification\tCannot be modified in place\tCan be modified in place\n",
        "Common Use Case\tRepresenting text\tStoring collections of data\n",
        "Key Differences Explained\n",
        "1. Mutability\n",
        "Strings: Strings are immutable, meaning you cannot modify them after they are created. Any \"modification\" creates a new string object.\n",
        "Lists: Lists are mutable, so their elements can be modified, added, or removed.\n",
        "\n",
        "2. Element Type\n",
        "Strings: Can only store characters.\n",
        "Lists: Can store elements of any type, such as integers, floats, strings, or even other lists.\n",
        "\n",
        "3. Syntax\n",
        "Strings: Defined using quotes (' ', \" \", or triple quotes for multiline strings).\n",
        "Lists: Defined using square brackets ([]), with elements separated by commas.\n",
        "\n",
        "4. Modification\n",
        "Strings: Since strings are immutable, modifying them requires creating a new string.\n",
        "Lists: Lists can be modified directly.\n",
        "\n",
        "6. Methods\n",
        "Strings: Have many built-in methods for text manipulation, like .upper(), .lower(), .strip(), .replace(), etc.\n",
        "Lists: Have methods for modifying the list, such as .append(), .extend(), .remove(), .pop(), etc.\n"
      ],
      "metadata": {
        "id": "mdzUqnz-7sat"
      }
    },
    {
      "cell_type": "markdown",
      "source": [
        "7. How do tuples ensure data integrity in Python?\n",
        "\n",
        "Ans:-Tuples are a fundamental data structure in Python, and they inherently support data integrity through their immutability. Here's how tuples help maintain data integrity:\n",
        "\n",
        "1. Immutability\n",
        "Once a tuple is created, its elements cannot be modified, added, or removed. This ensures that the data stored in a tuple remains unchanged throughout its lifecycle, reducing the risk of accidental or intentional modifications.\n",
        "\n",
        "2. Hashability\n",
        "Tuples are hashable if all their elements are also hashable (e.g., strings, numbers, other tuples).\n",
        "This allows tuples to be used as keys in dictionaries or elements in sets, ensuring that their value remains constant and reliable as an identifier.\n",
        "3. . Encapsulation of Fixed Data\n",
        "Tuples are a natural choice for representing fixed sets of data that belong together (e.g., coordinates, RGB color values, database rows).\n",
        "By grouping these elements in a tuple, you signal that the data is related and should not be changed individually.\n"
      ],
      "metadata": {
        "id": "gw-aWTbX9qxg"
      }
    },
    {
      "cell_type": "markdown",
      "source": [
        "8.What is a hash table, and how does it relate to dictionaries in Python?\n",
        "\n",
        "Ans:-A hash table is a data structure that provides a way to store and retrieve data efficiently. It organizes data into key-value pairs and uses a hash function to compute an index (hash value) for each key, which determines where the corresponding value will be stored in an array-like structure (called a bucket).\n",
        "\n",
        "In Python, dictionaries (dict) are implemented using hash tables. They store data as key-value pairs and use hashing to achieve efficient lookups and operations.\n",
        "\n",
        "Python Dictionaries Work Internally like:-\n",
        "1.Hashing Keys:\n",
        "When a key-value pair is added to a dictionary, Python calculates the hash value of the key using the built-in hash() function.\n",
        "This hash value determines the index (or bucket) in the underlying hash table where the value will be stored.\n",
        "\n",
        "2.Storing Key-Value Pairs:\n",
        "The key-value pair is stored in the bucket corresponding to the hash value of the key.\n",
        "The key is stored alongside the value to resolve collisions or confirm matches during lookups.\n",
        "\n",
        "3.Collision Handling:\n",
        "If two keys produce the same hash value (collision), Python uses open addressing to find the next available slot in the hash table.\n",
        "\n",
        "4.Dynamic Resizing:\n",
        "Dictionaries dynamically resize the hash table when it becomes too full to maintain efficient performance. When resizing occurs, all existing keys are rehashed and redistributed into a larger table."
      ],
      "metadata": {
        "id": "G9Jlxjai_JSu"
      }
    },
    {
      "cell_type": "markdown",
      "source": [
        "9.Can lists contain different data types in Python?\n",
        "\n",
        "Ans:-Yes, lists in Python can contain elements of different data types. Unlike some programming languages that enforce homogeneity in lists or arrays, Python's lists are highly flexible and can store a mix of data types, including:\n",
        "\n",
        "1.Numbers (integers, floats, complex numbers)\n",
        "2.Strings\n",
        "3.Booleans\n",
        "4.Other lists\n",
        "5.Dictionaries\n",
        "6.Tuples\n",
        "7.Custom objects"
      ],
      "metadata": {
        "id": "penFSeVTALwe"
      }
    },
    {
      "cell_type": "markdown",
      "source": [
        "10.Explain why strings are immutable in Python.\n",
        "\n",
        "Ans:-In Python, strings are immutable, meaning that once a string is created, it cannot be changed. Any operation that seems to modify a string actually creates a new string. This design choice is intentional and offers several key advantages:\n",
        "\n",
        "1. Strings are Widely Used and Need to Be Reliable\n",
        "Strings are a fundamental data type used extensively in Python programs for representing text. Ensuring that strings are immutable enhances their reliability and predictability.\n",
        "When multiple variables reference the same string, immutability guarantees that no accidental modifications can occur.\n",
        "\n",
        "2. Optimized Memory Usage\n",
        "Python optimizes memory usage for immutable objects like strings by implementing string interning, where identical strings are stored only once in memory.\n",
        "This reduces memory overhead and improves performance, especially when dealing with large programs or repeated string values.\n",
        "\n",
        "3. Hashability\n",
        "Strings are hashable because they are immutable. This allows them to be used as keys in dictionaries or elements in sets, where objects must have a consistent hash value.\n",
        "If strings were mutable, their hash value could change, leading to unreliable behavior in hash-based data structures."
      ],
      "metadata": {
        "id": "lhtftbymAgYl"
      }
    },
    {
      "cell_type": "markdown",
      "source": [
        "11. What advantages do dictionaries offer over lists for certain tasks ?"
      ],
      "metadata": {
        "id": "epGJhDlq9-sQ"
      }
    },
    {
      "cell_type": "markdown",
      "source": [
        "Ans:- Dictionaries in Python offer several advantages over lists for certain tasks, primarily due to their structure and how they store and retrieve data. Below are some key advantages:\n",
        "\n",
        "1. Key-Value Pair Storage\n",
        "2. Efficient Lookup\n",
        "3. Data Organization\n",
        "4. Mutability and Flexibility\n",
        "5. Uniqueness of Keys\n",
        "6. Readability and Maintainability\n",
        "\n",
        "\n"
      ],
      "metadata": {
        "id": "MQbhkno4-Hn6"
      }
    },
    {
      "cell_type": "markdown",
      "source": [
        "12.  Describe a scenario where using a tuple would be preferable over a list.\n",
        "\n",
        "Ans:- Tuples are preferable over lists in scenarios where immutability, data integrity, or performance is crucial. Here’s a detailed explanation:\n",
        "\n",
        "Scenario: Storing Coordinates in a Mapping Application\n",
        "Suppose you're building a mapping application that stores geographical coordinates (latitude and longitude) for specific locations.\n",
        "\n",
        "ex:- location = (40.7128, -74.0060)  # New York City coordinates\n",
        "\n",
        "Tuple is Preferable because:-\n",
        "\n",
        "1.Immutability:\n",
        "\n",
        "Tuples are immutable, meaning their contents cannot be changed after creation. This ensures that the coordinate values remain constant throughout the program, preserving data integrity.\n",
        "Lists, being mutable, could accidentally be modified, leading to potential errors.\n",
        "\n",
        "2.Performance:\n",
        "\n",
        "Tuples are more memory-efficient and faster to process than lists. If you’re handling large datasets with fixed-size, immutable data, tuples are more optimal.\n",
        "\n",
        "3.Semantic Meaning:\n",
        "\n",
        "Using a tuple conveys the idea that the data is a fixed \"pair\" of values that naturally belong together, such as latitude and longitude. This enhances code readability and makes the intent clear.\n",
        "\n",
        "4.Hashability:\n",
        "\n",
        "Tuples are hashable if they contain only hashable elements. This means they can be used as keys in a dictionary or elements in a set, unlike lists.\n",
        "\n"
      ],
      "metadata": {
        "id": "bO_ScGQf_mKk"
      }
    },
    {
      "cell_type": "markdown",
      "source": [
        "13.  How do sets handle duplicate values in Python.\n",
        "\n",
        "Ans:- In Python, sets automatically handle duplicate values by ensuring that all elements in the set are unique. If you attempt to add a duplicate value to a set, it will simply ignore the duplicate without raising an error.\n",
        "\n",
        "Key Points:\n",
        "Duplicate Removal:\n",
        "\n",
        "When a set is created or updated, Python automatically eliminates any duplicates.\n",
        "\n",
        "Implementation:\n",
        "\n",
        "Sets are implemented using a hash table, which inherently does not allow duplicate keys. This ensures that each element is stored only once.\n",
        "\n",
        "Adding Values:\n",
        "\n",
        "If you add an element to a set that is already present, the set remains unchanged.\n",
        "Creating a Set from a List:\n",
        "\n",
        "Converting a list to a set is a common way to remove duplicates."
      ],
      "metadata": {
        "id": "31m5aksFA5tS"
      }
    },
    {
      "cell_type": "markdown",
      "source": [
        "14.  How does the “in” keyword work differently for lists and dictionaries.\n",
        "\n",
        "Ans:- he in keyword in Python is used to check for membership, but its behavior differs between lists and dictionaries because of how these data structures are designed.\n",
        "\n",
        "1. For Lists\n",
        "The in keyword checks if a value exists as an element in the list.\n",
        "The search is linear, meaning the time complexity is O(n), as Python needs to traverse the list to find the element.\n",
        "\n",
        "2. For Dictionaries\n",
        "The in keyword checks if a value exists as a key in the dictionary, not as a value.\n",
        "The search is constant time, with a time complexity of O(1), because dictionaries use a hash table for key lookups."
      ],
      "metadata": {
        "id": "XpNhFyJ_BsiQ"
      }
    },
    {
      "cell_type": "markdown",
      "source": [
        "15. Can you modify the elements of a tuple? Explain why or why not\n",
        "\n",
        "Ans:- No, we cannot modify the elements of a tuple in Python because tuples are immutable. This means that once a tuple is created, its elements cannot be changed, added, or removed.\n",
        "\n",
        "Tuples are Immutable because:\n",
        "Design Choice:\n",
        "\n",
        "The immutability of tuples is a deliberate design choice in Python to provide a lightweight, unchangeable data structure. This allows tuples to be used in contexts where data integrity is crucial, such as as keys in dictionaries or elements of sets.\n",
        "Hashability:\n",
        "\n",
        "For a tuple to be hashable (and usable as a key in a dictionary or an element in a set), it must be immutable. Mutable objects, like lists, cannot be hashed because their contents can change, altering their hash values.\n",
        "Optimization:\n",
        "\n",
        "Immutability allows tuples to be implemented more efficiently in terms of memory and performance compared to mutable structures like lists."
      ],
      "metadata": {
        "id": "jrmNZRd7CQQY"
      }
    },
    {
      "cell_type": "markdown",
      "source": [
        "16. What is a nested dictionary, and give an example of its use case?\n",
        "\n",
        "Ans:- A nested dictionary is a dictionary that contains another dictionary as its value. This allows for hierarchical or multi-level data organization, making it ideal for representing complex relationships or structured data.\n",
        "\n",
        "Example of a Nested Dictionary:\n",
        "Suppose you're managing information about employees in a company. Each employee has attributes like their name, age, and department. A nested dictionary can be used to organize this data:\n",
        "\n",
        "employees = {\n",
        "    \"emp1\": {\"name\": \"Alice\", \"age\": 30, \"department\": \"HR\"},\n",
        "    \"emp2\": {\"name\": \"Bob\", \"age\": 25, \"department\": \"IT\"},\n",
        "    \"emp3\": {\"name\": \"Charlie\", \"age\": 35, \"department\": \"Finance\"},\n",
        "}\n",
        "\n",
        "Here:\n",
        "\n",
        "The outer dictionary uses employee IDs (\"emp1\", \"emp2\", etc.) as keys.\n",
        "Each value is another dictionary containing details about that employee"
      ],
      "metadata": {
        "id": "4w35a0GNCkKJ"
      }
    },
    {
      "cell_type": "markdown",
      "source": [
        "17. Describe the time complexity of accessing elements in a dictionary.\n",
        "\n",
        "Ans:- The time complexity of accessing elements in a dictionary in Python depends on the operation and the underlying implementation, which uses a hash table. Here's a detailed breakdown:\n",
        "\n",
        "1. Time Complexity of Key Lookup\n",
        "Average Case: O(1) (Constant Time)\n",
        "\n",
        "Dictionaries use a hash table to map keys to their values. In the average case, accessing an element involves computing the hash of the key and directly retrieving the corresponding value, which is very fast.\n",
        "Worst Case: O(n) (Linear Time)\n",
        "\n",
        "In rare cases where many keys hash to the same value (hash collisions), all the colliding keys may be stored in a list or another structure. In this case, a linear search may be required.\n",
        "However, Python's hash table implementation includes mechanisms like dynamic resizing and better hash functions to minimize collisions, making the worst case extremely rare.\n",
        "2. Insertion or Update\n",
        "Average Case: 𝑂(1)O(1)\n",
        "Inserting or updating a key-value pair typically involves computing the hash and updating the table.\n",
        "Worst Case: 𝑂(𝑛)O(n)\n",
        "Similar to lookup, hash collisions can degrade performance in extreme cases.\n",
        "3. Deletion\n",
        "Average Case: 𝑂(1)O(1)\n",
        "Deleting a key involves looking it up and removing it, which is usually constant time.\n",
        "Worst Case: 𝑂(𝑛)O(n)\n",
        "Again, this occurs in the rare event of many hash collisions."
      ],
      "metadata": {
        "id": "5CsSBi4LDImW"
      }
    },
    {
      "cell_type": "markdown",
      "source": [
        "18. In what situations are lists preferred over dictionaries.\n",
        "\n",
        "Ans:- Lists are preferred over dictionaries in certain situations where their characteristics and capabilities align better with the requirements of the task. Below are scenarios where lists are a more suitable choice than dictionaries:\n",
        "\n",
        "1. Ordered Data\n",
        "Use Case: When maintaining the order of elements is important.\n",
        "Why: Lists preserve the order of elements, while dictionaries (prior to Python 3.7) do not guarantee order. Although Python 3.7+ dictionaries maintain insertion order, lists are still more intuitive for ordered collections.\n",
        "2. Sequential Access\n",
        "Use Case: When you need to access elements by their position (index).\n",
        "Why: Lists allow fast, efficient access to elements by their index, making them ideal for tasks like iteration or slicing\n",
        "3. Simple Data Storage\n",
        "Use Case: When the data is a simple, homogeneous collection (e.g., a list of numbers or strings).\n",
        "Why: Lists are lightweight and easy to use for storing and manipulating simple sequences of data.\n",
        "4. No Need for Key-Value Pairs\n",
        "Use Case: When there's no need to associate meaningful keys with values.\n",
        "Why: Dictionaries require keys, which can add complexity if you're only dealing with a flat collection of values.\n",
        "5. Dynamic Ordering or Sorting\n",
        "Use Case: When sorting or reordering the data is required.\n",
        "Why: Lists support in-place sorting and easy reordering operations"
      ],
      "metadata": {
        "id": "SB7YRJsXD3sh"
      }
    },
    {
      "cell_type": "markdown",
      "source": [
        "19.  Why are dictionaries considered unordered, and how does that affect data retrieval.\n",
        "\n",
        "Ans:- Dictionaries were historically considered unordered collections in Python because their internal implementation using hash tables did not guarantee any specific order of elements. However, starting with Python 3.7, dictionaries maintain the insertion order of their key-value pairs as an implementation detail, which has been formally guaranteed as of Python 3.8. Here's how this evolution impacts their behavior:\n",
        "\n",
        "Why Were Dictionaries Previously Considered Unordered?\n",
        "Hash Table Implementation:\n",
        "\n",
        "Dictionaries use a hash table for storing keys and values.\n",
        "The position of each key-value pair is determined by the hash of the key, not by the order of insertion.\n",
        "Hash collisions or dynamic resizing of the hash table could lead to reordering of elements internally.\n",
        "No Order Guarantee (Before Python 3.7):\n",
        "\n",
        "Prior to Python 3.7, the language did not guarantee that the order of elements would be preserved, even if it sometimes appeared consistent in small datasets.\n",
        "Developers had to use collections.OrderedDict when they needed predictable ordering.\n",
        "Impact on Data Retrieval in Older Python Versions:\n",
        "Iteration:\n",
        "\n",
        "The order in which you retrieve keys, values, or items when iterating over a dictionary was not predictable.\n",
        "\n",
        "Insertion Order Not Preserved:\n",
        "Adding or removing items could disrupt the apparent order of elements.\n",
        "Modern Behavior (Python 3.7+):\n",
        "Insertion Order Guarantee:\n",
        "\n",
        "As of Python 3.7, dictionaries maintain the order in which items are added.\n",
        "This makes dictionaries behave more predictably when iterating or converting them to other data structures like lists.\n",
        "Benefits:\n",
        "\n",
        "Simplifies programming by removing the need for OrderedDict in many use cases.\n",
        "Enhances compatibility with data serialization formats like JSON, which expect predictable ordering.\n",
        "Effects on Data Retrieval:\n",
        "Before Python 3.7:\n",
        "\n",
        "Retrieval was efficient but order was unpredictable.\n",
        "Developers avoided relying on iteration order or explicitly sorted keys if needed.\n",
        "Python 3.7 and Later:\n",
        "\n",
        "Retrieval remains efficient (average 𝑂(1)O(1) complexity).\n",
        "Iteration order is consistent with insertion order, improving code readability and predictability.\n"
      ],
      "metadata": {
        "id": "H3qMNgifEdDn"
      }
    },
    {
      "cell_type": "markdown",
      "source": [
        "20. Explain the difference between a list and a dictionary in terms of data retrieval.\n",
        "\n",
        "Ans:- The difference between a list and a dictionary in terms of data retrieval lies in how they are structured and accessed, which impacts their efficiency, use cases, and functionality. Here's a detailed comparison:\n",
        "\n",
        "1. Access Method\n",
        "List:\n",
        "Data in a list is accessed using an index (integer position in the sequence).\n",
        "Indices are ordered and range from 0 to len(list) - 1.\n",
        "Dictionary:\n",
        "Data in a dictionary is accessed using a key (which can be of various immutable types like strings, integers, tuples, etc.).\n",
        "Keys are not positional but instead act as identifiers for the associated values.\n",
        "2. Retrieval Time Complexity\n",
        "List:\n",
        "Retrieving an element by index is 𝑂(1)O(1) (constant time), as lists support direct indexing.\n",
        "Searching for an element without knowing the index requires 𝑂(𝑛)O(n) (linear time), as the list needs to be iterated.\n",
        "Dictionary:\n",
        "Retrieving a value by key is 𝑂(1)O(1) on average, thanks to the hash table implementation.\n",
        "Searching for a value by iterating over all key-value pairs takes 𝑂(𝑛)O(n).\n",
        "3. Data Structure and Use Cases\n",
        "List:\n",
        "Sequential Structure: Ideal for ordered collections of homogeneous or similar data.\n",
        "Use Case: When data order matters, or when you need to frequently access elements by their position.\n",
        "Dictionary:\n",
        "Key-Value Pair Structure: Best for mapping relationships where each key uniquely identifies a value.\n",
        "Use Case: When you need fast lookups or to associate additional context with each piece of data.\n",
        "5. When to Use\n",
        "List:\n",
        "When you need ordered collections.\n",
        "When indexing or positional access is required.\n",
        "When the data is simple and does not require context.\n",
        "Dictionary:\n",
        "When you need fast lookups by a unique identifier (key).\n",
        "When associating additional information with each element.\n",
        "When working with non-sequential or context-rich data."
      ],
      "metadata": {
        "id": "JW-l0zt0FVS4"
      }
    },
    {
      "cell_type": "markdown",
      "source": [
        "# PRACTICAL QUESTIONS."
      ],
      "metadata": {
        "id": "dfkCyr4tQlPn"
      }
    },
    {
      "cell_type": "markdown",
      "source": [
        "1.  Write a code to create a string with your name and print it"
      ],
      "metadata": {
        "id": "tXnsDhUDQqZb"
      }
    },
    {
      "cell_type": "code",
      "source": [
        "\n",
        "my_name = \"Shankhaeep\"\n",
        "\n",
        "print(my_name)\n"
      ],
      "metadata": {
        "colab": {
          "base_uri": "https://localhost:8080/"
        },
        "id": "awcNbHOpQv0N",
        "outputId": "d32ca350-68b0-4206-da9d-d735aa3dca5a"
      },
      "execution_count": 1,
      "outputs": [
        {
          "output_type": "stream",
          "name": "stdout",
          "text": [
            "Shankhaeep\n"
          ]
        }
      ]
    },
    {
      "cell_type": "markdown",
      "source": [
        "2. Write a code to find the length of the string \"Hello World\""
      ],
      "metadata": {
        "id": "T6FFaNxARAfb"
      }
    },
    {
      "cell_type": "code",
      "source": [
        "\n",
        "my_string = \"Hello World\"\n",
        "length = len(my_string)\n",
        "print(length)\n"
      ],
      "metadata": {
        "colab": {
          "base_uri": "https://localhost:8080/"
        },
        "id": "GCBYWDWWRFTZ",
        "outputId": "fb76e5c9-aba7-484c-d146-5819bf397efd"
      },
      "execution_count": 2,
      "outputs": [
        {
          "output_type": "stream",
          "name": "stdout",
          "text": [
            "11\n"
          ]
        }
      ]
    },
    {
      "cell_type": "markdown",
      "source": [
        "3. Write a code to slice the first 3 characters from the string \"Python Programming\"."
      ],
      "metadata": {
        "id": "xY2bbSS5RUGF"
      }
    },
    {
      "cell_type": "code",
      "source": [
        "\n",
        "my_string = \"Python Programming\"\n",
        "\n",
        "sliced_string = my_string[:3]\n",
        "\n",
        "print(sliced_string)\n"
      ],
      "metadata": {
        "colab": {
          "base_uri": "https://localhost:8080/"
        },
        "id": "Mh27kUb_RZLt",
        "outputId": "ecc894eb-7fad-41ad-e4d7-e3cd114c9451"
      },
      "execution_count": 3,
      "outputs": [
        {
          "output_type": "stream",
          "name": "stdout",
          "text": [
            "Pyt\n"
          ]
        }
      ]
    },
    {
      "cell_type": "markdown",
      "source": [
        "4.  Write a code to convert the string \"hello\" to uppercase."
      ],
      "metadata": {
        "id": "s4f-iMfgR2gt"
      }
    },
    {
      "cell_type": "code",
      "source": [
        "my_string = \"hello\"\n",
        "\n",
        "uppercase_string = my_string.upper()\n",
        "print(uppercase_string)\n"
      ],
      "metadata": {
        "colab": {
          "base_uri": "https://localhost:8080/"
        },
        "id": "EtRcg_DwSDad",
        "outputId": "770906e5-79aa-452e-fd67-f55cef3fc816"
      },
      "execution_count": 4,
      "outputs": [
        {
          "output_type": "stream",
          "name": "stdout",
          "text": [
            "HELLO\n"
          ]
        }
      ]
    },
    {
      "cell_type": "markdown",
      "source": [
        "5. Write a code to replace the word \"apple\" with \"orange\" in the string \"I like apple\""
      ],
      "metadata": {
        "id": "eUtq6JWOSS_s"
      }
    },
    {
      "cell_type": "code",
      "source": [
        "my_string = \"I like apple\"\n",
        "\n",
        "modified_string = my_string.replace(\"apple\", \"orange\")\n",
        "\n",
        "print(modified_string)\n"
      ],
      "metadata": {
        "colab": {
          "base_uri": "https://localhost:8080/"
        },
        "id": "NO_HG0t8SXM6",
        "outputId": "81270775-8ea5-4365-b57f-01b62a19ac8e"
      },
      "execution_count": 5,
      "outputs": [
        {
          "output_type": "stream",
          "name": "stdout",
          "text": [
            "I like orange\n"
          ]
        }
      ]
    },
    {
      "cell_type": "markdown",
      "source": [
        "6. Write a code to create a list with numbers 1 to 5 and print it."
      ],
      "metadata": {
        "id": "TuMSVd2bSwEs"
      }
    },
    {
      "cell_type": "code",
      "source": [
        "my_list = [1, 2, 3, 4, 5]\n",
        "\n",
        "print(my_list)\n"
      ],
      "metadata": {
        "id": "8X3fTOQ7S1fL"
      },
      "execution_count": null,
      "outputs": []
    },
    {
      "cell_type": "markdown",
      "source": [
        "7.  Write a code to append the number 10 to the list [1, 2, 3, 4]."
      ],
      "metadata": {
        "id": "oBYbE5wYTQqN"
      }
    },
    {
      "cell_type": "code",
      "source": [
        "my_list = [1, 2, 3, 4]\n",
        "\n",
        "my_list.append(10)\n",
        "\n",
        "print(my_list)\n"
      ],
      "metadata": {
        "colab": {
          "base_uri": "https://localhost:8080/"
        },
        "id": "o0XixGmUTWDG",
        "outputId": "ace5c885-43d4-4636-f892-5b9a69d89ca9"
      },
      "execution_count": 6,
      "outputs": [
        {
          "output_type": "stream",
          "name": "stdout",
          "text": [
            "[1, 2, 3, 4, 10]\n"
          ]
        }
      ]
    },
    {
      "cell_type": "markdown",
      "source": [
        "8. Write a code to remove the number 3 from the list [1, 2, 3, 4, 5]."
      ],
      "metadata": {
        "id": "azjmpwR-TjyT"
      }
    },
    {
      "cell_type": "code",
      "source": [
        "my_list = [1, 2, 3, 4, 5]\n",
        "\n",
        "my_list.remove(3)\n",
        "\n",
        "print(my_list)\n"
      ],
      "metadata": {
        "id": "D6YOXf2HTp1s"
      },
      "execution_count": null,
      "outputs": []
    },
    {
      "cell_type": "markdown",
      "source": [
        "9.  Write a code to access the second element in the list ['a', 'b', 'c', 'd']."
      ],
      "metadata": {
        "id": "Z9aWrVcIT1JD"
      }
    },
    {
      "cell_type": "code",
      "source": [
        "my_list = ['a', 'b', 'c', 'd']\n",
        "\n",
        "second_element = my_list[1]\n",
        "\n",
        "print(second_element)\n"
      ],
      "metadata": {
        "id": "J2dGYqDTT6PD"
      },
      "execution_count": null,
      "outputs": []
    },
    {
      "cell_type": "markdown",
      "source": [
        "10. Write a code to reverse the list [10, 20, 30, 40, 50]."
      ],
      "metadata": {
        "id": "HPq6o9UdUSgj"
      }
    },
    {
      "cell_type": "code",
      "source": [
        "my_list = [10, 20, 30, 40, 50]\n",
        "\n",
        "reversed_list = my_list[::-1]\n",
        "\n",
        "print(reversed_list)\n"
      ],
      "metadata": {
        "id": "c58QYbmEUXHH"
      },
      "execution_count": null,
      "outputs": []
    },
    {
      "cell_type": "markdown",
      "source": [
        "11.Write a code to create a tuple with the elements 10, 20, 30 and print it."
      ],
      "metadata": {
        "id": "Vfe5kHYkXp86"
      }
    },
    {
      "cell_type": "code",
      "source": [
        "my_tuple = (10, 20, 30)\n",
        "\n",
        "print(my_tuple)\n"
      ],
      "metadata": {
        "colab": {
          "base_uri": "https://localhost:8080/"
        },
        "id": "zwWoTWBDXwVM",
        "outputId": "1807fa38-b139-4dda-b667-cf9fc5bb65d2"
      },
      "execution_count": 7,
      "outputs": [
        {
          "output_type": "stream",
          "name": "stdout",
          "text": [
            "(10, 20, 30)\n"
          ]
        }
      ]
    },
    {
      "cell_type": "markdown",
      "source": [
        "12. Write a code to access the first element of the tuple ('apple', 'banana', 'cherry')."
      ],
      "metadata": {
        "id": "ojC7t0_0lqXP"
      }
    },
    {
      "cell_type": "code",
      "source": [
        "my_tuple = ('apple', 'banana', 'cherry')\n",
        "\n",
        "first_element = my_tuple[0]\n",
        "\n",
        "print(first_element)\n"
      ],
      "metadata": {
        "id": "rguyDjnLlyF4"
      },
      "execution_count": null,
      "outputs": []
    },
    {
      "cell_type": "markdown",
      "source": [
        "13. Write a code to count how many times the number 2 appears in the tuple (1, 2, 3, 2, 4, 2)."
      ],
      "metadata": {
        "id": "N_z8eiCwl8Ku"
      }
    },
    {
      "cell_type": "code",
      "source": [
        "my_tuple = (1, 2, 3, 2, 4, 2)\n",
        "\n",
        "count_2 = my_tuple.count(2)\n",
        "\n",
        "print(count_2)\n"
      ],
      "metadata": {
        "id": "DLolkvfimBUb"
      },
      "execution_count": null,
      "outputs": []
    },
    {
      "cell_type": "markdown",
      "source": [
        " 14. Write a code to find the index of the element \"cat\" in the tuple ('dog', 'cat', 'rabbit')."
      ],
      "metadata": {
        "id": "I1oNAj7CmMOR"
      }
    },
    {
      "cell_type": "code",
      "source": [
        "my_tuple = ('dog', 'cat', 'rabbit')\n",
        "\n",
        "index_cat = my_tuple.index('cat')\n",
        "\n",
        "print(index_cat)\n"
      ],
      "metadata": {
        "id": "oIxJEIhSmQA4"
      },
      "execution_count": null,
      "outputs": []
    },
    {
      "cell_type": "markdown",
      "source": [
        "15. Write a code to check if the element \"banana\" is in the tuple ('apple', 'orange', 'banana')"
      ],
      "metadata": {
        "id": "_gPfPXUamXD4"
      }
    },
    {
      "cell_type": "code",
      "source": [
        "my_tuple = ('apple', 'orange', 'banana')\n",
        "\n",
        "is_banana_in_tuple = \"banana\" in my_tuple\n",
        "\n",
        "print(is_banana_in_tuple)\n"
      ],
      "metadata": {
        "id": "UrGdt2i9mb6x"
      },
      "execution_count": null,
      "outputs": []
    },
    {
      "cell_type": "markdown",
      "source": [
        " 16. Write a code to create a set with the elements 1, 2, 3, 4, 5 and print it."
      ],
      "metadata": {
        "id": "UuoVgVIDmjQC"
      }
    },
    {
      "cell_type": "code",
      "source": [
        "my_set = {1, 2, 3, 4, 5}\n",
        "\n",
        "print(my_set)\n"
      ],
      "metadata": {
        "id": "pdKml-qkmm7z"
      },
      "execution_count": null,
      "outputs": []
    },
    {
      "cell_type": "markdown",
      "source": [
        "17. Write a code to add the element 6 to the set {1, 2, 3, 4}."
      ],
      "metadata": {
        "id": "TI2Cw9QImuRh"
      }
    },
    {
      "cell_type": "code",
      "source": [
        "my_set = {1, 2, 3, 4}\n",
        "my_set.add(6)\n",
        "\n",
        "\n",
        "print(my_set)\n"
      ],
      "metadata": {
        "colab": {
          "base_uri": "https://localhost:8080/"
        },
        "id": "x3EOkscPmyY5",
        "outputId": "369c202b-16c1-4c8e-d205-bbe7ecc7437f"
      },
      "execution_count": 8,
      "outputs": [
        {
          "output_type": "stream",
          "name": "stdout",
          "text": [
            "{1, 2, 3, 4, 6}\n"
          ]
        }
      ]
    },
    {
      "cell_type": "markdown",
      "source": [
        " 18. Write a code to create a tuple with the elements 10, 20, 30 and print it."
      ],
      "metadata": {
        "id": "tWnI0B9Cm65w"
      }
    },
    {
      "cell_type": "code",
      "source": [
        "my_tuple = (10, 20, 30)\n",
        "\n",
        "print(my_tuple)\n"
      ],
      "metadata": {
        "id": "vozXY1sJm9x4"
      },
      "execution_count": null,
      "outputs": []
    },
    {
      "cell_type": "markdown",
      "source": [
        " 19. Write a code to access the first element of the tuple ('apple', 'banana', 'cherry')."
      ],
      "metadata": {
        "id": "a3nMTbkenF8Z"
      }
    },
    {
      "cell_type": "code",
      "source": [
        "my_tuple = ('apple', 'banana', 'cherry')\n",
        "\n",
        "first_element = my_tuple[0]\n",
        "\n",
        "print(first_element)\n"
      ],
      "metadata": {
        "id": "ecMqSPctnJ4B"
      },
      "execution_count": null,
      "outputs": []
    },
    {
      "cell_type": "markdown",
      "source": [
        " 20. Write a code to count how many times the number 2 appears in the tuple (1, 2, 3, 2, 4, 2)."
      ],
      "metadata": {
        "id": "vklEEZMvnR1q"
      }
    },
    {
      "cell_type": "code",
      "source": [
        "my_tuple = (1, 2, 3, 2, 4, 2)\n",
        "\n",
        "count_2 = my_tuple.count(2)\n",
        "\n",
        "print(count_2)\n"
      ],
      "metadata": {
        "id": "2CJdDxTnnXsB"
      },
      "execution_count": null,
      "outputs": []
    },
    {
      "cell_type": "markdown",
      "source": [
        " 21. Write a code to find the index of the element \"cat\" in the tuple ('dog', 'cat', 'rabbit')."
      ],
      "metadata": {
        "id": "zYpQ2A8TnfLR"
      }
    },
    {
      "cell_type": "code",
      "source": [
        "my_tuple = ('dog', 'cat', 'rabbit')\n",
        "\n",
        "index_cat = my_tuple.index('cat')\n",
        "\n",
        "print(index_cat)\n"
      ],
      "metadata": {
        "id": "shdsqyk1niHY"
      },
      "execution_count": null,
      "outputs": []
    },
    {
      "cell_type": "markdown",
      "source": [
        " 22. Write a code to check if the element \"banana\" is in the tuple ('apple', 'orange', 'banana')."
      ],
      "metadata": {
        "id": "6JyBFn6TnoeS"
      }
    },
    {
      "cell_type": "code",
      "source": [
        "my_tuple = ('apple', 'orange', 'banana')\n",
        "\n",
        "is_banana_in_tuple = \"banana\" in my_tuple\n",
        "\n",
        "print(is_banana_in_tuple)\n"
      ],
      "metadata": {
        "id": "yB0TDJc6nsbh"
      },
      "execution_count": null,
      "outputs": []
    },
    {
      "cell_type": "markdown",
      "source": [
        "23. Write a code to create a set with the elements 1, 2, 3, 4, 5 and print it."
      ],
      "metadata": {
        "id": "HdDH1vSynzJH"
      }
    },
    {
      "cell_type": "code",
      "source": [
        "\n",
        "my_set = {1, 2, 3, 4, 5}\n",
        "print(my_set)\n"
      ],
      "metadata": {
        "colab": {
          "base_uri": "https://localhost:8080/"
        },
        "id": "tWu_HRuWn27Y",
        "outputId": "87df6dee-546a-463d-b717-626fa3b6e609"
      },
      "execution_count": 9,
      "outputs": [
        {
          "output_type": "stream",
          "name": "stdout",
          "text": [
            "{1, 2, 3, 4, 5}\n"
          ]
        }
      ]
    },
    {
      "cell_type": "markdown",
      "source": [
        " 24. Write a code to add the element 6 to the set {1, 2, 3, 4}."
      ],
      "metadata": {
        "id": "3r9Q6AOkn9XI"
      }
    },
    {
      "cell_type": "code",
      "source": [
        "my_set = {1, 2, 3, 4}\n",
        "\n",
        "my_set.add(6)\n",
        "\n",
        "print(my_set)\n"
      ],
      "metadata": {
        "id": "D8wHkLgcoAN4"
      },
      "execution_count": null,
      "outputs": []
    },
    {
      "cell_type": "markdown",
      "source": [],
      "metadata": {
        "id": "Chq02NiISrND"
      }
    }
  ]
}